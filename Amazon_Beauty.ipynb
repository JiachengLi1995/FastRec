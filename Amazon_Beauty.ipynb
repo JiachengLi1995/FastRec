{
 "cells": [
  {
   "cell_type": "markdown",
   "metadata": {},
   "source": [
    "## Data Processing from Amazon Data"
   ]
  },
  {
   "cell_type": "markdown",
   "metadata": {},
   "source": [
    "[Amazon Review Data (2018)](https://nijianmo.github.io/amazon/index.html)."
   ]
  },
  {
   "cell_type": "markdown",
   "metadata": {},
   "source": [
    "First, we process Amazon Beauty gz file and then output it to SASRec dataset folder."
   ]
  },
  {
   "cell_type": "code",
   "execution_count": 1,
   "metadata": {},
   "outputs": [
    {
     "output_type": "stream",
     "name": "stdout",
     "text": [
      "34278it [00:00, 69371.66it/s]\n",
      "100%|███████████████████████████████████| 3819/3819 [00:00<00:00, 281126.87it/s]\n"
     ]
    }
   ],
   "source": [
    "!python data_process.py --file_path data/Beauty_5.json.gz --output_path SASRec/datasets/data/Beauty"
   ]
  },
  {
   "cell_type": "markdown",
   "metadata": {},
   "source": [
    "Then, we can begin train SASRec and evaluate the model."
   ]
  },
  {
   "cell_type": "code",
   "execution_count": 6,
   "metadata": {},
   "outputs": [
    {
     "output_type": "stream",
     "name": "stdout",
     "text": [
      "Traceback (most recent call last):\n  File \"SASRec/main.py\", line 3, in <module>\n    from options import args\n  File \"/data4/jiacheng/FastRec/SASRec/options.py\", line 2, in <module>\n    from dataloaders import DATALOADERS\n  File \"/data4/jiacheng/FastRec/SASRec/dataloaders/__init__.py\", line 2, in <module>\n    from .sasrec import SASRecDataloader\n  File \"/data4/jiacheng/FastRec/SASRec/dataloaders/sasrec.py\", line 4, in <module>\n    import torch\nModuleNotFoundError: No module named 'torch'\n"
     ]
    }
   ],
   "source": [
    "!bash train.sh 0 Beauty"
   ]
  },
  {
   "cell_type": "code",
   "execution_count": 4,
   "metadata": {},
   "outputs": [],
   "source": [
    "import torch"
   ]
  },
  {
   "cell_type": "code",
   "execution_count": null,
   "metadata": {},
   "outputs": [],
   "source": []
  }
 ],
 "metadata": {
  "kernelspec": {
   "name": "python3",
   "display_name": "Python 3.8.5 64-bit ('Py3': conda)",
   "metadata": {
    "interpreter": {
     "hash": "0acc2fc3cbe7854d1d4c2d444a923f89c8c24b4ec6e4a8fac15ee1d1a2c2ca8f"
    }
   }
  },
  "language_info": {
   "codemirror_mode": {
    "name": "ipython",
    "version": 3
   },
   "file_extension": ".py",
   "mimetype": "text/x-python",
   "name": "python",
   "nbconvert_exporter": "python",
   "pygments_lexer": "ipython3",
   "version": "3.8.5-final"
  }
 },
 "nbformat": 4,
 "nbformat_minor": 2
}