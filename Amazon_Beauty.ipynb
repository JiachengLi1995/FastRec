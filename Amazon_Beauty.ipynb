{
 "cells": [
  {
   "cell_type": "markdown",
   "metadata": {},
   "source": [
    "## Data Processing from Amazon Data"
   ]
  },
  {
   "cell_type": "markdown",
   "metadata": {},
   "source": [
    "[Amazon Review Data (2018)](https://nijianmo.github.io/amazon/index.html)."
   ]
  },
  {
   "cell_type": "markdown",
   "metadata": {},
   "source": [
    "First, we process Amazon Beauty gz file and then output it to SASRec dataset folder."
   ]
  },
  {
   "cell_type": "code",
   "execution_count": 3,
   "metadata": {},
   "outputs": [
    {
     "name": "stderr",
     "output_type": "stream",
     "text": [
      "\n",
      "0it [00:00, ?it/s]\n",
      "6341it [00:00, 63407.34it/s]\n",
      "13131it [00:00, 64691.33it/s]\n",
      "20003it [00:00, 65660.95it/s]\n",
      "26179it [00:00, 64239.41it/s]\n",
      "31220it [00:00, 59346.52it/s]\n",
      "34278it [00:00, 61869.69it/s]\n",
      "\n",
      "  0%|          | 0/3819 [00:00<?, ?it/s]\n",
      "100%|##########| 3819/3819 [00:00<00:00, 276654.98it/s]\n"
     ]
    }
   ],
   "source": [
    "!python data_process.py --file_path data/Beauty_5.json.gz --output_path SASRec/datasets/data/Beauty"
   ]
  },
  {
   "cell_type": "markdown",
   "metadata": {},
   "source": [
    "Then, we can begin train SASRec and evaluate the model."
   ]
  },
  {
   "cell_type": "code",
   "execution_count": 4,
   "metadata": {},
   "outputs": [
    {
     "name": "stderr",
     "output_type": "stream",
     "text": [
      "SASRec/scripts/train.sh: line 3: python: command not found\n"
     ]
    }
   ],
   "source": [
    "!bash SASRec/scripts/train.sh 0 Beauty"
   ]
  }
 ],
 "metadata": {
  "kernelspec": {
   "display_name": "Python 3",
   "language": "python",
   "name": "python3"
  },
  "language_info": {
   "codemirror_mode": {
    "name": "ipython",
    "version": 3
   },
   "file_extension": ".py",
   "mimetype": "text/x-python",
   "name": "python",
   "nbconvert_exporter": "python",
   "pygments_lexer": "ipython3",
   "version": "3.7.4"
  }
 },
 "nbformat": 4,
 "nbformat_minor": 2
}
