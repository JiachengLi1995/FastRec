{
 "cells": [
  {
   "cell_type": "markdown",
   "metadata": {},
   "source": [
    "## Dataset Pre-processing\n",
    "### Download Beauty Dataset from [Amazon 2018](https://nijianmo.github.io/amazon/index.html)"
   ]
  },
  {
   "cell_type": "code",
   "execution_count": 8,
   "metadata": {},
   "outputs": [
    {
     "name": "stdout",
     "output_type": "stream",
     "text": [
      "5269it [00:00, 109083.04it/s]\n",
      "100%|█████████████████████████████████████| 991/991 [00:00<00:00, 434649.72it/s]\n"
     ]
    }
   ],
   "source": [
    "!python data/data_process.py --file_path data/Beauty/All_Beauty_5.json.gz --output_path data/Beauty"
   ]
  },
  {
   "cell_type": "markdown",
   "metadata": {},
   "source": [
    "## Load Dependencies and Hyper-Parameters"
   ]
  },
  {
   "cell_type": "code",
   "execution_count": 1,
   "metadata": {},
   "outputs": [],
   "source": [
    "import torch\n",
    "\n",
    "from src.models import model_factory\n",
    "from src.dataloaders import dataloader_factory\n",
    "from src.datasets import dataset_factory\n",
    "from src.trainers import trainer_factory\n",
    "from src.utils.utils import *\n",
    "from src.utils.options import parser"
   ]
  },
  {
   "cell_type": "code",
   "execution_count": 2,
   "metadata": {},
   "outputs": [
    {
     "name": "stdout",
     "output_type": "stream",
     "text": [
      "Folder created: /home/zhankui/FastRec/experiments/test_2021-11-11_32\n",
      "{'adam_epsilon': 1e-06,\n",
      " 'best_metric': 'NDCG@10',\n",
      " 'data_path': 'data/Beauty',\n",
      " 'dataloader_code': 'sasrec',\n",
      " 'dataloader_random_seed': 0.0,\n",
      " 'dataset_code': 'item',\n",
      " 'dataset_split_seed': 98765,\n",
      " 'device': 'cpu',\n",
      " 'device_idx': '0',\n",
      " 'experiment_description': 'test',\n",
      " 'experiment_dir': 'experiments',\n",
      " 'global_epochs': 1000,\n",
      " 'local_epochs': 10,\n",
      " 'lr': 0.001,\n",
      " 'metric_ks': [5,\n",
      "               10,\n",
      "               20],\n",
      " 'model_code': 'sasrec',\n",
      " 'model_init_seed': 0,\n",
      " 'num_epochs': 100,\n",
      " 'num_gpu': 1,\n",
      " 'optimizer': 'Adam',\n",
      " 'split': 'leave_one_out',\n",
      " 'subset_size': 1000,\n",
      " 'test_batch_size': 64,\n",
      " 'test_negative_sample_size': 100,\n",
      " 'test_negative_sampler_code': 'random',\n",
      " 'test_negative_sampling_seed': 98765,\n",
      " 'train_batch_size': 64,\n",
      " 'train_negative_sample_size': 100,\n",
      " 'train_negative_sampler_code': 'random',\n",
      " 'train_negative_sampling_seed': 0,\n",
      " 'trainer_code': 'sasrec_sample',\n",
      " 'trm_att_dropout': 0.2,\n",
      " 'trm_dropout': 0.2,\n",
      " 'trm_hidden_dim': 50,\n",
      " 'trm_max_len': 50,\n",
      " 'trm_num_blocks': 2,\n",
      " 'trm_num_heads': 1,\n",
      " 'val_batch_size': 64,\n",
      " 'verbose': 10,\n",
      " 'weight_decay': 0}\n"
     ]
    }
   ],
   "source": [
    "args = parser.parse_args([])\n",
    "\n",
    "args.data_path = 'data/Beauty'\n",
    "args.num_epochs = 100\n",
    "args.trm_max_len = 50\n",
    "\n",
    "ckpt_root = setup_train(args)"
   ]
  },
  {
   "cell_type": "markdown",
   "metadata": {},
   "source": [
    "## Build Dataset"
   ]
  },
  {
   "cell_type": "code",
   "execution_count": 3,
   "metadata": {},
   "outputs": [],
   "source": [
    "dataset = dataset_factory(args)\n",
    "train_loader, val_loader, test_loader, dataset = dataloader_factory(args, dataset)"
   ]
  },
  {
   "cell_type": "markdown",
   "metadata": {},
   "source": [
    "## Model Setup\n",
    "We load [SASRec Model](https://arxiv.org/abs/1808.09781) for sequential recommendation"
   ]
  },
  {
   "cell_type": "code",
   "execution_count": 4,
   "metadata": {},
   "outputs": [
    {
     "name": "stdout",
     "output_type": "stream",
     "text": [
      "Model size: 37950\n",
      "SASRecModel(\n",
      "  (loss): BCEWithLogitsLoss()\n",
      "  (item_emb): Embedding(87, 50, padding_idx=86)\n",
      "  (pos_emb): Embedding(50, 50)\n",
      "  (emb_dropout): Dropout(p=0.2, inplace=False)\n",
      "  (attention_layernorms): ModuleList(\n",
      "    (0): LayerNorm((50,), eps=1e-08, elementwise_affine=True)\n",
      "    (1): LayerNorm((50,), eps=1e-08, elementwise_affine=True)\n",
      "  )\n",
      "  (attention_layers): ModuleList(\n",
      "    (0): MultiHeadAttention(\n",
      "      (linear_layers): ModuleList(\n",
      "        (0): Linear(in_features=50, out_features=50, bias=True)\n",
      "        (1): Linear(in_features=50, out_features=50, bias=True)\n",
      "        (2): Linear(in_features=50, out_features=50, bias=True)\n",
      "      )\n",
      "      (output_linear): Linear(in_features=50, out_features=50, bias=True)\n",
      "      (dropout): Dropout(p=0.2, inplace=False)\n",
      "    )\n",
      "    (1): MultiHeadAttention(\n",
      "      (linear_layers): ModuleList(\n",
      "        (0): Linear(in_features=50, out_features=50, bias=True)\n",
      "        (1): Linear(in_features=50, out_features=50, bias=True)\n",
      "        (2): Linear(in_features=50, out_features=50, bias=True)\n",
      "      )\n",
      "      (output_linear): Linear(in_features=50, out_features=50, bias=True)\n",
      "      (dropout): Dropout(p=0.2, inplace=False)\n",
      "    )\n",
      "  )\n",
      "  (forward_layernorms): ModuleList(\n",
      "    (0): LayerNorm((50,), eps=1e-08, elementwise_affine=True)\n",
      "    (1): LayerNorm((50,), eps=1e-08, elementwise_affine=True)\n",
      "  )\n",
      "  (forward_layers): ModuleList(\n",
      "    (0): PointWiseFeedForward(\n",
      "      (conv1): Conv1d(50, 50, kernel_size=(1,), stride=(1,))\n",
      "      (dropout1): Dropout(p=0.2, inplace=False)\n",
      "      (relu): ReLU()\n",
      "      (conv2): Conv1d(50, 50, kernel_size=(1,), stride=(1,))\n",
      "      (dropout2): Dropout(p=0.2, inplace=False)\n",
      "    )\n",
      "    (1): PointWiseFeedForward(\n",
      "      (conv1): Conv1d(50, 50, kernel_size=(1,), stride=(1,))\n",
      "      (dropout1): Dropout(p=0.2, inplace=False)\n",
      "      (relu): ReLU()\n",
      "      (conv2): Conv1d(50, 50, kernel_size=(1,), stride=(1,))\n",
      "      (dropout2): Dropout(p=0.2, inplace=False)\n",
      "    )\n",
      "  )\n",
      "  (last_layernorm): LayerNorm((50,), eps=1e-08, elementwise_affine=True)\n",
      ")\n"
     ]
    }
   ],
   "source": [
    "model = model_factory(args)\n",
    "if args.load_pretrained_weights is not None:\n",
    "    print(\"weights loading from %s ...\" % args.load_pretrained_weights)\n",
    "    model = load_pretrained_weights(model, args.load_pretrained_weights)\n",
    "print(\"Model size:\", sum(p.numel() for p in model.parameters() if p.requires_grad))\n",
    "print(model)"
   ]
  },
  {
   "cell_type": "markdown",
   "metadata": {},
   "source": [
    "## Model Training"
   ]
  },
  {
   "cell_type": "code",
   "execution_count": 5,
   "metadata": {
    "tags": [
     "outputPrepend"
    ]
   },
   "outputs": [
    {
     "name": "stderr",
     "output_type": "stream",
     "text": [
      "TEST N@5 0.40320: , N@10 0.52204: , N@20 0.53289: , R@5 0.41507: , R@10 0.77886: , R@20 0.82110: , M 0.45544: , AUC 0.86572: , loss 0.00000: 100%|██████████| 16/16 [00:02<00:00,  6.83it/s]\n",
      "  0%|          | 0/16 [00:00<?, ?it/s]/home/zhankui/FastRec/src/trainers/base.py:85: UserWarning: torch.nn.utils.clip_grad_norm is now deprecated in favor of torch.nn.utils.clip_grad_norm_.\n",
      "  nn.utils.clip_grad_norm(self.model.parameters(), 5.0)\n",
      "Epoch 1, loss 1.10022 : 100%|██████████| 16/16 [00:00<00:00, 31.01it/s]\n",
      "Epoch 2, loss 0.78009 : 100%|██████████| 16/16 [00:00<00:00, 32.28it/s]\n",
      "Epoch 3, loss 0.63061 : 100%|██████████| 16/16 [00:00<00:00, 32.47it/s]\n",
      "Epoch 4, loss 0.52834 : 100%|██████████| 16/16 [00:00<00:00, 32.64it/s]\n",
      "Epoch 5, loss 0.43696 : 100%|██████████| 16/16 [00:00<00:00, 31.67it/s]\n",
      "Epoch 6, loss 0.37604 : 100%|██████████| 16/16 [00:00<00:00, 31.78it/s]\n",
      "Epoch 7, loss 0.32594 : 100%|██████████| 16/16 [00:00<00:00, 30.14it/s]\n",
      "Epoch 8, loss 0.30456 : 100%|██████████| 16/16 [00:00<00:00, 31.53it/s]\n",
      "Epoch 9, loss 0.27262 : 100%|██████████| 16/16 [00:00<00:00, 32.24it/s]\n",
      "Epoch 10, loss 0.25110 : 100%|██████████| 16/16 [00:00<00:00, 32.41it/s]\n",
      "VAL N@5 0.84126: , N@10 0.84721: , N@20 0.84917: , R@5 0.96087: , R@10 0.97845: , R@20 0.98633: , M 0.80434: , AUC 0.98443: , loss 0.00000: 100%|██████████| 16/16 [00:00<00:00, 167.21it/s]\n",
      "TEST N@5 0.59939: , N@10 0.60403: , N@20 0.60663: , R@5 0.82201: , R@10 0.83569: , R@20 0.84649: , M 0.52947: , AUC 0.88184: , loss 0.00000: 100%|██████████| 16/16 [00:00<00:00, 147.03it/s]\n",
      "Epoch 11, loss 0.23759 :   0%|          | 0/16 [00:00<?, ?it/s]"
     ]
    },
    {
     "name": "stdout",
     "output_type": "stream",
     "text": [
      "Update Best NDCG@10 Model\n"
     ]
    },
    {
     "name": "stderr",
     "output_type": "stream",
     "text": [
      "Epoch 11, loss 0.22474 : 100%|██████████| 16/16 [00:00<00:00, 32.33it/s]\n",
      "Epoch 12, loss 0.22031 : 100%|██████████| 16/16 [00:00<00:00, 32.60it/s]\n",
      "Epoch 13, loss 0.19782 : 100%|██████████| 16/16 [00:00<00:00, 32.47it/s]\n",
      "Epoch 14, loss 0.19677 : 100%|██████████| 16/16 [00:00<00:00, 31.79it/s]\n",
      "Epoch 15, loss 0.18293 : 100%|██████████| 16/16 [00:00<00:00, 31.99it/s]\n",
      "Epoch 16, loss 0.17645 : 100%|██████████| 16/16 [00:00<00:00, 31.47it/s]\n",
      "Epoch 17, loss 0.17635 : 100%|██████████| 16/16 [00:00<00:00, 29.88it/s]\n",
      "Epoch 18, loss 0.16438 : 100%|██████████| 16/16 [00:00<00:00, 31.91it/s]\n",
      "Epoch 19, loss 0.15294 : 100%|██████████| 16/16 [00:00<00:00, 32.10it/s]\n",
      "Epoch 20, loss 0.14201 : 100%|██████████| 16/16 [00:00<00:00, 31.52it/s]\n",
      "VAL N@5 0.87817: , N@10 0.88217: , N@20 0.88457: , R@5 0.96472: , R@10 0.97741: , R@20 0.98718: , M 0.85075: , AUC 0.98706: , loss 0.00000: 100%|██████████| 16/16 [00:00<00:00, 135.42it/s]\n",
      "TEST N@5 0.70221: , N@10 0.70414: , N@20 0.70797: , R@5 0.82683: , R@10 0.83269: , R@20 0.84740: , M 0.66374: , AUC 0.89180: , loss 0.00000: 100%|██████████| 16/16 [00:00<00:00, 149.72it/s]\n",
      "Epoch 21, loss 0.17444 :   0%|          | 0/16 [00:00<?, ?it/s]"
     ]
    },
    {
     "name": "stdout",
     "output_type": "stream",
     "text": [
      "Update Best NDCG@10 Model\n"
     ]
    },
    {
     "name": "stderr",
     "output_type": "stream",
     "text": [
      "Epoch 21, loss 0.14152 : 100%|██████████| 16/16 [00:00<00:00, 31.08it/s]\n",
      "Epoch 22, loss 0.13770 : 100%|██████████| 16/16 [00:00<00:00, 31.98it/s]\n",
      "Epoch 23, loss 0.13347 : 100%|██████████| 16/16 [00:00<00:00, 31.38it/s]\n",
      "Epoch 24, loss 0.15078 : 100%|██████████| 16/16 [00:00<00:00, 32.06it/s]\n",
      "Epoch 25, loss 0.12306 : 100%|██████████| 16/16 [00:00<00:00, 31.88it/s]\n",
      "Epoch 26, loss 0.12137 : 100%|██████████| 16/16 [00:00<00:00, 31.32it/s]\n",
      "Epoch 27, loss 0.11776 : 100%|██████████| 16/16 [00:00<00:00, 31.55it/s]\n",
      "Epoch 28, loss 0.11472 : 100%|██████████| 16/16 [00:00<00:00, 31.81it/s]\n",
      "Epoch 29, loss 0.11475 : 100%|██████████| 16/16 [00:00<00:00, 31.26it/s]\n",
      "Epoch 30, loss 0.12022 : 100%|██████████| 16/16 [00:00<00:00, 31.09it/s]\n",
      "VAL N@5 0.91585: , N@10 0.91930: , N@20 0.92105: , R@5 0.97064: , R@10 0.98138: , R@20 0.98822: , M 0.89923: , AUC 0.98931: , loss 0.00000: 100%|██████████| 16/16 [00:00<00:00, 149.42it/s]\n",
      "TEST N@5 0.73060: , N@10 0.73415: , N@20 0.73643: , R@5 0.83178: , R@10 0.84258: , R@20 0.85137: , M 0.70001: , AUC 0.89340: , loss 0.00000: 100%|██████████| 16/16 [00:00<00:00, 153.99it/s]\n",
      "Epoch 31, loss 0.09463 :   0%|          | 0/16 [00:00<?, ?it/s]"
     ]
    },
    {
     "name": "stdout",
     "output_type": "stream",
     "text": [
      "Update Best NDCG@10 Model\n"
     ]
    },
    {
     "name": "stderr",
     "output_type": "stream",
     "text": [
      "Epoch 31, loss 0.10769 : 100%|██████████| 16/16 [00:00<00:00, 31.27it/s]\n",
      "Epoch 32, loss 0.10909 : 100%|██████████| 16/16 [00:00<00:00, 29.63it/s]\n",
      "Epoch 33, loss 0.10372 : 100%|██████████| 16/16 [00:00<00:00, 31.70it/s]\n",
      "Epoch 34, loss 0.11110 : 100%|██████████| 16/16 [00:00<00:00, 32.37it/s]\n",
      "Epoch 35, loss 0.09150 : 100%|██████████| 16/16 [00:00<00:00, 31.30it/s]\n",
      "Epoch 36, loss 0.10204 : 100%|██████████| 16/16 [00:00<00:00, 32.25it/s]\n",
      "Epoch 37, loss 0.09699 : 100%|██████████| 16/16 [00:00<00:00, 31.43it/s]\n",
      "Epoch 38, loss 0.09784 : 100%|██████████| 16/16 [00:00<00:00, 30.26it/s]\n",
      "Epoch 39, loss 0.09520 : 100%|██████████| 16/16 [00:00<00:00, 32.32it/s]\n",
      "Epoch 40, loss 0.09879 : 100%|██████████| 16/16 [00:00<00:00, 32.45it/s]\n",
      "VAL N@5 0.91060: , N@10 0.91478: , N@20 0.91679: , R@5 0.96777: , R@10 0.98047: , R@20 0.98828: , M 0.89360: , AUC 0.98966: , loss 0.00000: 100%|██████████| 16/16 [00:00<00:00, 144.19it/s]\n",
      "TEST N@5 0.71433: , N@10 0.71759: , N@20 0.71916: , R@5 0.83373: , R@10 0.84447: , R@20 0.85033: , M 0.67671: , AUC 0.88197: , loss 0.00000: 100%|██████████| 16/16 [00:00<00:00, 163.52it/s]\n",
      "Epoch 41, loss 0.09124 : 100%|██████████| 16/16 [00:00<00:00, 32.37it/s]\n",
      "Epoch 42, loss 0.08913 : 100%|██████████| 16/16 [00:00<00:00, 32.39it/s]\n",
      "Epoch 43, loss 0.08167 : 100%|██████████| 16/16 [00:00<00:00, 32.34it/s]\n",
      "Epoch 44, loss 0.07603 : 100%|██████████| 16/16 [00:00<00:00, 31.97it/s]\n",
      "Epoch 45, loss 0.08936 : 100%|██████████| 16/16 [00:00<00:00, 32.24it/s]\n",
      "Epoch 46, loss 0.07131 : 100%|██████████| 16/16 [00:00<00:00, 31.67it/s]\n",
      "Epoch 47, loss 0.08581 : 100%|██████████| 16/16 [00:00<00:00, 31.77it/s]\n",
      "Epoch 48, loss 0.08464 : 100%|██████████| 16/16 [00:00<00:00, 32.58it/s]\n",
      "Epoch 49, loss 0.08113 : 100%|██████████| 16/16 [00:00<00:00, 31.43it/s]\n",
      "Epoch 50, loss 0.07925 : 100%|██████████| 16/16 [00:00<00:00, 32.47it/s]\n",
      "VAL N@5 0.91985: , N@10 0.92555: , N@20 0.92716: , R@5 0.96276: , R@10 0.98041: , R@20 0.98633: , M 0.90837: , AUC 0.98989: , loss 0.00000: 100%|██████████| 16/16 [00:00<00:00, 151.52it/s]\n",
      "TEST N@5 0.76344: , N@10 0.76538: , N@20 0.76830: , R@5 0.83361: , R@10 0.83947: , R@20 0.85125: , M 0.74284: , AUC 0.88232: , loss 0.00000: 100%|██████████| 16/16 [00:00<00:00, 173.72it/s]\n",
      "Epoch 51, loss 0.09215 :   0%|          | 0/16 [00:00<?, ?it/s]"
     ]
    },
    {
     "name": "stdout",
     "output_type": "stream",
     "text": [
      "Update Best NDCG@10 Model\n"
     ]
    },
    {
     "name": "stderr",
     "output_type": "stream",
     "text": [
      "Epoch 51, loss 0.07162 : 100%|██████████| 16/16 [00:00<00:00, 32.17it/s]\n",
      "Epoch 52, loss 0.07811 : 100%|██████████| 16/16 [00:00<00:00, 31.92it/s]\n",
      "Epoch 53, loss 0.08097 : 100%|██████████| 16/16 [00:00<00:00, 32.10it/s]\n",
      "Epoch 54, loss 0.07641 : 100%|██████████| 16/16 [00:00<00:00, 32.08it/s]\n",
      "Epoch 55, loss 0.07633 : 100%|██████████| 16/16 [00:00<00:00, 31.98it/s]\n",
      "Epoch 56, loss 0.08133 : 100%|██████████| 16/16 [00:00<00:00, 32.07it/s]\n",
      "Epoch 57, loss 0.06426 : 100%|██████████| 16/16 [00:00<00:00, 30.81it/s]\n",
      "Epoch 58, loss 0.08005 : 100%|██████████| 16/16 [00:00<00:00, 28.02it/s]\n",
      "Epoch 59, loss 0.06417 : 100%|██████████| 16/16 [00:00<00:00, 31.91it/s]\n",
      "Epoch 60, loss 0.07231 : 100%|██████████| 16/16 [00:00<00:00, 29.06it/s]\n",
      "VAL N@5 0.92803: , N@10 0.93295: , N@20 0.93570: , R@5 0.95990: , R@10 0.97455: , R@20 0.98529: , M 0.92024: , AUC 0.98860: , loss 0.00000: 100%|██████████| 16/16 [00:00<00:00, 149.67it/s]\n",
      "TEST N@5 0.78870: , N@10 0.79101: , N@20 0.79352: , R@5 0.83263: , R@10 0.83953: , R@20 0.84936: , M 0.77740: , AUC 0.88458: , loss 0.00000: 100%|██████████| 16/16 [00:00<00:00, 177.03it/s]\n",
      "Epoch 61, loss 0.07173 :   0%|          | 0/16 [00:00<?, ?it/s]"
     ]
    },
    {
     "name": "stdout",
     "output_type": "stream",
     "text": [
      "Update Best NDCG@10 Model\n"
     ]
    },
    {
     "name": "stderr",
     "output_type": "stream",
     "text": [
      "Epoch 61, loss 0.06455 : 100%|██████████| 16/16 [00:00<00:00, 31.10it/s]\n",
      "Epoch 62, loss 0.07350 : 100%|██████████| 16/16 [00:00<00:00, 32.25it/s]\n",
      "Epoch 63, loss 0.07300 : 100%|██████████| 16/16 [00:00<00:00, 30.59it/s]\n",
      "Epoch 64, loss 0.06526 : 100%|██████████| 16/16 [00:00<00:00, 32.38it/s]\n",
      "Epoch 65, loss 0.07264 : 100%|██████████| 16/16 [00:00<00:00, 32.33it/s]\n",
      "Epoch 66, loss 0.07031 : 100%|██████████| 16/16 [00:00<00:00, 32.40it/s]\n",
      "Epoch 67, loss 0.07136 : 100%|██████████| 16/16 [00:00<00:00, 30.18it/s]\n",
      "Epoch 68, loss 0.07051 : 100%|██████████| 16/16 [00:00<00:00, 32.39it/s]\n",
      "Epoch 69, loss 0.06499 : 100%|██████████| 16/16 [00:00<00:00, 31.99it/s]\n",
      "Epoch 70, loss 0.06383 : 100%|██████████| 16/16 [00:00<00:00, 32.31it/s]\n",
      "VAL N@5 0.92656: , N@10 0.93167: , N@20 0.93343: , R@5 0.96387: , R@10 0.97949: , R@20 0.98633: , M 0.91658: , AUC 0.98981: , loss 0.00000: 100%|██████████| 16/16 [00:00<00:00, 173.63it/s]\n",
      "TEST N@5 0.75532: , N@10 0.75785: , N@20 0.76045: , R@5 0.83373: , R@10 0.84154: , R@20 0.85229: , M 0.73168: , AUC 0.87429: , loss 0.00000: 100%|██████████| 16/16 [00:00<00:00, 166.57it/s]\n",
      "Epoch 71, loss 0.06199 : 100%|██████████| 16/16 [00:00<00:00, 32.43it/s]\n",
      "Epoch 72, loss 0.06110 : 100%|██████████| 16/16 [00:00<00:00, 32.14it/s]\n",
      "Epoch 73, loss 0.06700 : 100%|██████████| 16/16 [00:00<00:00, 32.15it/s]\n",
      "Epoch 74, loss 0.06789 : 100%|██████████| 16/16 [00:00<00:00, 32.09it/s]\n",
      "Epoch 75, loss 0.06247 : 100%|██████████| 16/16 [00:00<00:00, 32.17it/s]\n",
      "Epoch 76, loss 0.06425 : 100%|██████████| 16/16 [00:00<00:00, 32.14it/s]\n",
      "Epoch 77, loss 0.06027 : 100%|██████████| 16/16 [00:00<00:00, 32.42it/s]\n",
      "Epoch 78, loss 0.06237 : 100%|██████████| 16/16 [00:00<00:00, 29.88it/s]\n",
      "Epoch 79, loss 0.06875 : 100%|██████████| 16/16 [00:00<00:00, 30.70it/s]\n",
      "Epoch 80, loss 0.06424 : 100%|██████████| 16/16 [00:00<00:00, 27.90it/s]\n",
      "VAL N@5 0.93558: , N@10 0.94134: , N@20 0.94259: , R@5 0.96484: , R@10 0.98242: , R@20 0.98730: , M 0.92857: , AUC 0.99037: , loss 0.00000: 100%|██████████| 16/16 [00:00<00:00, 176.33it/s]\n",
      "TEST N@5 0.78630: , N@10 0.78867: , N@20 0.79188: , R@5 0.83172: , R@10 0.83855: , R@20 0.85131: , M 0.77446: , AUC 0.87928: , loss 0.00000: 100%|██████████| 16/16 [00:00<00:00, 174.17it/s]\n",
      "Epoch 81, loss 0.04782 :   0%|          | 0/16 [00:00<?, ?it/s]"
     ]
    },
    {
     "name": "stdout",
     "output_type": "stream",
     "text": [
      "Update Best NDCG@10 Model\n"
     ]
    },
    {
     "name": "stderr",
     "output_type": "stream",
     "text": [
      "Epoch 81, loss 0.07592 : 100%|██████████| 16/16 [00:00<00:00, 32.37it/s]\n",
      "Epoch 82, loss 0.05912 : 100%|██████████| 16/16 [00:00<00:00, 32.14it/s]\n",
      "Epoch 83, loss 0.06188 : 100%|██████████| 16/16 [00:00<00:00, 32.25it/s]\n",
      "Epoch 84, loss 0.06040 : 100%|██████████| 16/16 [00:00<00:00, 31.61it/s]\n",
      "Epoch 85, loss 0.06230 : 100%|██████████| 16/16 [00:00<00:00, 31.70it/s]\n",
      "Epoch 86, loss 0.06485 : 100%|██████████| 16/16 [00:00<00:00, 32.16it/s]\n",
      "Epoch 87, loss 0.06372 : 100%|██████████| 16/16 [00:00<00:00, 31.68it/s]\n",
      "Epoch 88, loss 0.06433 : 100%|██████████| 16/16 [00:00<00:00, 29.99it/s]\n",
      "Epoch 89, loss 0.05455 : 100%|██████████| 16/16 [00:00<00:00, 31.64it/s]\n",
      "Epoch 90, loss 0.06131 : 100%|██████████| 16/16 [00:00<00:00, 28.14it/s]\n",
      "VAL N@5 0.92833: , N@10 0.93350: , N@20 0.93654: , R@5 0.95996: , R@10 0.97559: , R@20 0.98730: , M 0.92077: , AUC 0.98996: , loss 0.00000: 100%|██████████| 16/16 [00:00<00:00, 173.20it/s]\n",
      "TEST N@5 0.78201: , N@10 0.78463: , N@20 0.78689: , R@5 0.82964: , R@10 0.83745: , R@20 0.84624: , M 0.76937: , AUC 0.87221: , loss 0.00000: 100%|██████████| 16/16 [00:00<00:00, 161.15it/s]\n",
      "Epoch 91, loss 0.06163 : 100%|██████████| 16/16 [00:00<00:00, 30.44it/s]\n",
      "Epoch 92, loss 0.06255 : 100%|██████████| 16/16 [00:00<00:00, 31.88it/s]\n",
      "Epoch 93, loss 0.05721 : 100%|██████████| 16/16 [00:00<00:00, 31.97it/s]\n",
      "Epoch 94, loss 0.06016 : 100%|██████████| 16/16 [00:00<00:00, 32.28it/s]\n",
      "Epoch 95, loss 0.06168 : 100%|██████████| 16/16 [00:00<00:00, 29.31it/s]\n",
      "Epoch 96, loss 0.05453 : 100%|██████████| 16/16 [00:00<00:00, 26.82it/s]\n",
      "Epoch 97, loss 0.05907 : 100%|██████████| 16/16 [00:00<00:00, 28.34it/s]\n",
      "Epoch 98, loss 0.05511 : 100%|██████████| 16/16 [00:00<00:00, 31.38it/s]\n",
      "Epoch 99, loss 0.06351 : 100%|██████████| 16/16 [00:00<00:00, 31.78it/s]\n",
      "Epoch 100, loss 0.05626 : 100%|██████████| 16/16 [00:00<00:00, 31.20it/s]\n",
      "VAL N@5 0.92916: , N@10 0.93393: , N@20 0.93642: , R@5 0.96094: , R@10 0.97559: , R@20 0.98535: , M 0.92144: , AUC 0.98948: , loss 0.00000: 100%|██████████| 16/16 [00:00<00:00, 130.66it/s]\n",
      "TEST N@5 0.78709: , N@10 0.78999: , N@20 0.79207: , R@5 0.83055: , R@10 0.83934: , R@20 0.84715: , M 0.77586: , AUC 0.87407: , loss 0.00000: 100%|██████████| 16/16 [00:00<00:00, 154.18it/s]\n"
     ]
    }
   ],
   "source": [
    "trainer = trainer_factory(args, model, train_loader, val_loader, test_loader, ckpt_root, dataset.data)\n",
    "trainer.train()"
   ]
  },
  {
   "cell_type": "markdown",
   "metadata": {},
   "source": [
    "## Model Test and Saving"
   ]
  },
  {
   "cell_type": "code",
   "execution_count": null,
   "metadata": {},
   "outputs": [],
   "source": [
    "# model testing and saving\n",
    "trainer.test()\n",
    "trainer.logger_service.complete({'state_dict': (trainer._create_state_dict())})\n",
    "trainer.writer.close()"
   ]
  },
  {
   "cell_type": "markdown",
   "metadata": {},
   "source": [
    "## Export ONNX Model \n",
    "- Install ONNX with `pip install ONNX`\n",
    "- Install ONNX Runtime ()ORT with `pip install onnxruntime` or `pip install onnxruntime-gpu`"
   ]
  },
  {
   "cell_type": "code",
   "execution_count": 6,
   "metadata": {},
   "outputs": [],
   "source": [
    "model.eval()\n",
    "for batch in trainer.test_loader:\n",
    "    break\n",
    "users, seqs, candidates, labels, length = batch\n",
    "args = (seqs, candidates, length)\n",
    "torch_out = model(*args)"
   ]
  },
  {
   "cell_type": "markdown",
   "metadata": {},
   "source": [
    "### Export Our Model with ONNX (Ver. 11)"
   ]
  },
  {
   "cell_type": "code",
   "execution_count": 7,
   "metadata": {},
   "outputs": [
    {
     "name": "stderr",
     "output_type": "stream",
     "text": [
      "/home/zhankui/.local/lib/python3.6/site-packages/torch/onnx/utils.py:1190: UserWarning: Provided key input for dynamic axes is not a valid input/output name\n",
      "  warnings.warn(\"Provided key {} for dynamic axes is not a valid input/output name\".format(key))\n",
      "/home/zhankui/FastRec/src/models/onnx_support.py:55: TracerWarning: Converting a tensor to a Python float might cause the trace to be incorrect. We can't record the data flow of Python values, so this value will be treated as a constant in the future. This means that the trace might not generalize to other inputs!\n",
      "  scores = torch.matmul(query, key.transpose(-2, -1)) / math.sqrt(query.size(-1))\n",
      "/home/zhankui/.local/lib/python3.6/site-packages/torch/onnx/symbolic_opset9.py:2624: UserWarning: Exporting aten::index operator of advanced indexing in opset 11 is achieved by combination of multiple ONNX operators, including Reshape, Transpose, Concat, and Gather. If indices include negative values, the exported graph will produce incorrect results.\n",
      "  \"If indices include negative values, the exported graph will produce incorrect results.\")\n"
     ]
    }
   ],
   "source": [
    "torch.onnx.export(model,               # model being run\n",
    "                  args,                         # model input (or a tuple for multiple inputs)\n",
    "                  \"demo_model.onnx\",   # where to save the model (can be a file or file-like object)\n",
    "                  export_params=True,        # store the trained parameter weights inside the model file\n",
    "                  opset_version=11,          # the ONNX version to export the model to\n",
    "                  do_constant_folding=True,  # whether to execute constant folding for optimization\n",
    "                  input_names = ['seqs', 'candidates', 'length'],   # the model's input names\n",
    "                  output_names = ['output'], # the model's output names\n",
    "                  dynamic_axes={'input' : {0 : 'batch_size'},    # variable length axes\n",
    "                                'output' : {0 : 'batch_size'}})"
   ]
  },
  {
   "cell_type": "markdown",
   "metadata": {},
   "source": [
    "### Load Our ONNX Model for Checking"
   ]
  },
  {
   "cell_type": "code",
   "execution_count": 8,
   "metadata": {},
   "outputs": [],
   "source": [
    "import onnx\n",
    "\n",
    "onnx_model = onnx.load(\"demo_model.onnx\")\n",
    "onnx.checker.check_model(onnx_model)"
   ]
  },
  {
   "cell_type": "markdown",
   "metadata": {},
   "source": [
    "### Use ONNXRuntime to Run our Model"
   ]
  },
  {
   "cell_type": "code",
   "execution_count": 9,
   "metadata": {},
   "outputs": [
    {
     "name": "stderr",
     "output_type": "stream",
     "text": [
      "/home/zhankui/anaconda3/envs/bert4rec/lib/python3.6/site-packages/onnxruntime/capi/onnxruntime_inference_collection.py:353: UserWarning: Deprecation warning. This ORT build has ['CUDAExecutionProvider', 'CPUExecutionProvider'] enabled. The next release (ORT 1.10) will require explicitly setting the providers parameter (as opposed to the current behavior of providers getting set/registered by default based on the build flags) when instantiating InferenceSession.For example, onnxruntime.InferenceSession(..., providers=[\"CUDAExecutionProvider\"], ...)\n",
      "  \"based on the build flags) when instantiating InferenceSession.\"\n"
     ]
    }
   ],
   "source": [
    "import onnxruntime\n",
    "\n",
    "ort_session = onnxruntime.InferenceSession(\"demo_model.onnx\")\n",
    "\n",
    "def to_numpy(tensor):\n",
    "    return tensor.detach().cpu().numpy() if tensor.requires_grad else tensor.cpu().numpy()"
   ]
  },
  {
   "cell_type": "code",
   "execution_count": 10,
   "metadata": {},
   "outputs": [],
   "source": [
    "# compute ONNX Runtime output prediction\n",
    "ort_inputs = {'seqs': to_numpy(seqs), 'candidates': to_numpy(candidates), 'length': to_numpy(length)}\n",
    "ort_outs = ort_session.run(None, ort_inputs)"
   ]
  },
  {
   "cell_type": "code",
   "execution_count": 11,
   "metadata": {},
   "outputs": [
    {
     "name": "stdout",
     "output_type": "stream",
     "text": [
      "None\n"
     ]
    }
   ],
   "source": [
    "# compare ONNX Runtime and PyTorch results\n",
    "print(np.testing.assert_allclose(to_numpy(torch_out), ort_outs[0], rtol=1e-03, atol=1e-05))"
   ]
  },
  {
   "cell_type": "markdown",
   "metadata": {},
   "source": [
    "### You can also use `onnx_tensorrt` to use `TensorRT` backend\n",
    "\n",
    "- Here we use TensorRT 8.2.0, please follow [onnx_tensorrt](https://github.com/onnx/onnx-tensorrt) master branch to install the related dependencies. Or you can use `onnx2trt` to export this `.onnx` to `.trt` engine."
   ]
  },
  {
   "cell_type": "code",
   "execution_count": null,
   "metadata": {},
   "outputs": [],
   "source": [
    "import onnx\n",
    "import onnx_tensorrt.backend as backend\n",
    "\n",
    "onnx_model = onnx.load(\"demo_model.onnx\")\n",
    "engine = backend.prepare(onnx_model, device='CUDA:0')"
   ]
  },
  {
   "cell_type": "markdown",
   "metadata": {},
   "source": [
    "## Model Serving\n",
    "We deploy a model with [faiss](https://github.com/facebookresearch/faiss) to accelerate the maximal inner product search. "
   ]
  },
  {
   "cell_type": "code",
   "execution_count": 14,
   "metadata": {},
   "outputs": [],
   "source": [
    "import os\n",
    "import faiss\n",
    "\n",
    "model = model_factory(args)\n",
    "model = load_pretrained_weights(model, os.path.join(ckpt_root, 'models', 'best_acc_model.pth'))\n",
    "model = model.eval()"
   ]
  },
  {
   "cell_type": "code",
   "execution_count": 15,
   "metadata": {},
   "outputs": [],
   "source": [
    "import numpy as np\n",
    "d = args.trm_hidden_dim                                 # dimension\n",
    "nb = model.item_emb.weight.size(0)                      # item pool size\n",
    "xb = model.item_emb.weight.data.cpu().numpy()           # item embeddings table"
   ]
  },
  {
   "cell_type": "code",
   "execution_count": 16,
   "metadata": {},
   "outputs": [],
   "source": [
    "index = faiss.index_factory(d, 'HNSW32', faiss.METRIC_INNER_PRODUCT)   # build the index\n",
    "index.add(xb)                                                          # add vectors to the index"
   ]
  },
  {
   "cell_type": "markdown",
   "metadata": {},
   "source": [
    "### Model Input Example"
   ]
  },
  {
   "cell_type": "code",
   "execution_count": 41,
   "metadata": {},
   "outputs": [],
   "source": [
    "x = torch.LongTensor([dataset.train[0]])                # input example\n",
    "l = torch.LongTensor([len(dataset.train[0])-1])         # length"
   ]
  },
  {
   "cell_type": "code",
   "execution_count": 23,
   "metadata": {},
   "outputs": [],
   "source": [
    "xq = model(x, length=l, mode='serving').detach().cpu()"
   ]
  },
  {
   "cell_type": "markdown",
   "metadata": {},
   "source": [
    "### Exact Search via Naive Matmul"
   ]
  },
  {
   "cell_type": "code",
   "execution_count": 34,
   "metadata": {},
   "outputs": [
    {
     "name": "stdout",
     "output_type": "stream",
     "text": [
      "tensor([63, 29, 28, 61, 36,  6, 49, 62, 12, 39])\n"
     ]
    }
   ],
   "source": [
    "k = 10\n",
    "\n",
    "V, I = torch.topk((torch.Tensor(xb) @ xq.squeeze()), k)\n",
    "print(I)"
   ]
  },
  {
   "cell_type": "markdown",
   "metadata": {},
   "source": [
    "### Approximate Search Via Faiss"
   ]
  },
  {
   "cell_type": "code",
   "execution_count": 40,
   "metadata": {},
   "outputs": [
    {
     "name": "stdout",
     "output_type": "stream",
     "text": [
      "[[63 29 28 36 61  6 62 12 49 39]]\n"
     ]
    }
   ],
   "source": [
    "V, I = index.search(xq.numpy(), k)\n",
    "print(I)"
   ]
  }
 ],
 "metadata": {
  "interpreter": {
   "hash": "b924b7c73943409674542aea3e0df54fb1f044d153fc4e01dc776af20050e158"
  },
  "kernelspec": {
   "display_name": "Python 3.6.10 64-bit ('bert4rec': conda)",
   "name": "python3"
  },
  "language_info": {
   "codemirror_mode": {
    "name": "ipython",
    "version": 3
   },
   "file_extension": ".py",
   "mimetype": "text/x-python",
   "name": "python",
   "nbconvert_exporter": "python",
   "pygments_lexer": "ipython3",
   "version": "3.6.10"
  }
 },
 "nbformat": 4,
 "nbformat_minor": 2
}
