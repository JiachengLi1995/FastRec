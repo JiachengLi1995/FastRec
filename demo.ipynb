{
 "metadata": {
  "language_info": {
   "codemirror_mode": {
    "name": "ipython",
    "version": 3
   },
   "file_extension": ".py",
   "mimetype": "text/x-python",
   "name": "python",
   "nbconvert_exporter": "python",
   "pygments_lexer": "ipython3",
   "version": "3.7.4"
  },
  "orig_nbformat": 2,
  "kernelspec": {
   "name": "python3",
   "display_name": "Python 3.7.4 64-bit ('base': conda)",
   "metadata": {
    "interpreter": {
     "hash": "ec8ad566cf4997d0586b1896b05c92e7d03a439a812c5b7aeb2bdcdf55a068ae"
    }
   }
  }
 },
 "nbformat": 4,
 "nbformat_minor": 2,
 "cells": [
  {
   "cell_type": "code",
   "execution_count": 3,
   "metadata": {},
   "outputs": [
    {
     "output_type": "stream",
     "name": "stdout",
     "text": [
      "198502it [00:02, 93826.65it/s]\n",
      "100%|█████████████████████████████████| 22363/22363 [00:00<00:00, 279691.14it/s]\n"
     ]
    }
   ],
   "source": [
    "!python data/data_process.py --file_path data/Beauty/reviews_Beauty_5.json.gz --output_path data/Beauty"
   ]
  },
  {
   "cell_type": "code",
   "execution_count": null,
   "metadata": {},
   "outputs": [],
   "source": [
    "!bash script/train.sh 0 Beauty large_gpu"
   ]
  }
 ]
}