{
 "cells": [
  {
   "cell_type": "markdown",
   "metadata": {},
   "source": [
    "## Dataset Pre-processing\n",
    "### Download Beauty Dataset from [Amazon 2018](https://nijianmo.github.io/amazon/index.html)"
   ]
  },
  {
   "cell_type": "code",
   "execution_count": 1,
   "metadata": {},
   "outputs": [
    {
     "name": "stdout",
     "output_type": "stream",
     "text": [
      "python: can't open file 'data/data_process.py': [Errno 2] No such file or directory\n"
     ]
    }
   ],
   "source": [
    "!python data/data_process.py --file_path data/Beauty/All_Beauty_5.json.gz --output_path data/Beauty"
   ]
  },
  {
   "cell_type": "markdown",
   "metadata": {},
   "source": [
    "## Load Dependencies and Hyper-Parameters"
   ]
  },
  {
   "cell_type": "code",
   "execution_count": 2,
   "metadata": {},
   "outputs": [],
   "source": [
    "import torch\n",
    "\n",
    "import sys\n",
    "sys.path.append('../')\n",
    "\n",
    "from src.models import model_factory\n",
    "from src.dataloaders import dataloader_factory\n",
    "from src.datasets import dataset_factory\n",
    "from src.trainers import trainer_factory\n",
    "from src.utils.utils import *\n",
    "from src.utils.options import parser"
   ]
  },
  {
   "cell_type": "code",
   "execution_count": 16,
   "metadata": {},
   "outputs": [
    {
     "name": "stdout",
     "output_type": "stream",
     "text": [
      "Folder created: /home/zhankui/1_engineering/Qualcomm-FastRec/demo/experiments/test_2022-01-04_18\n",
      "{'adam_epsilon': 1e-06,\n",
      " 'best_metric': 'NDCG@10',\n",
      " 'data_path': '../data/ml-1m',\n",
      " 'dataloader_code': 'sasrec',\n",
      " 'dataloader_random_seed': 0.0,\n",
      " 'dataset_code': 'item',\n",
      " 'dataset_split_seed': 98765,\n",
      " 'device': 'cpu',\n",
      " 'device_idx': '0',\n",
      " 'experiment_description': 'test',\n",
      " 'experiment_dir': 'experiments',\n",
      " 'global_epochs': 1000,\n",
      " 'local_epochs': 10,\n",
      " 'lr': 0.001,\n",
      " 'metric_ks': [5,\n",
      "               10,\n",
      "               20],\n",
      " 'model_code': 'sasrec',\n",
      " 'model_init_seed': 0,\n",
      " 'num_epochs': 100,\n",
      " 'num_gpu': 1,\n",
      " 'optimizer': 'Adam',\n",
      " 'split': 'leave_one_out',\n",
      " 'subset_size': 1000,\n",
      " 'test_batch_size': 64,\n",
      " 'test_negative_sample_size': 100,\n",
      " 'test_negative_sampler_code': 'random',\n",
      " 'test_negative_sampling_seed': 98765,\n",
      " 'train_batch_size': 64,\n",
      " 'train_negative_sample_size': 100,\n",
      " 'train_negative_sampler_code': 'random',\n",
      " 'train_negative_sampling_seed': 0,\n",
      " 'trainer_code': 'sasrec_sample',\n",
      " 'trm_att_dropout': 0.2,\n",
      " 'trm_dropout': 0.2,\n",
      " 'trm_hidden_dim': 50,\n",
      " 'trm_max_len': 50,\n",
      " 'trm_num_blocks': 2,\n",
      " 'trm_num_heads': 1,\n",
      " 'val_batch_size': 64,\n",
      " 'verbose': 10,\n",
      " 'weight_decay': 0}\n"
     ]
    }
   ],
   "source": [
    "args = parser.parse_args([])\n",
    "\n",
    "args.data_path = '../data/ml-1m' # '../data/Beauty'\n",
    "args.num_epochs = 100\n",
    "args.trm_max_len = 50\n",
    "\n",
    "ckpt_root = setup_train(args)"
   ]
  },
  {
   "cell_type": "markdown",
   "metadata": {},
   "source": [
    "## Build Dataset"
   ]
  },
  {
   "cell_type": "code",
   "execution_count": 17,
   "metadata": {},
   "outputs": [],
   "source": [
    "dataset = dataset_factory(args)\n",
    "train_loader, val_loader, test_loader, dataset = dataloader_factory(args, dataset)"
   ]
  },
  {
   "cell_type": "markdown",
   "metadata": {},
   "source": [
    "## Model Setup\n",
    "We load [SASRec Model](https://arxiv.org/abs/1808.09781) for sequential recommendation"
   ]
  },
  {
   "cell_type": "code",
   "execution_count": 18,
   "metadata": {},
   "outputs": [
    {
     "name": "stdout",
     "output_type": "stream",
     "text": [
      "Model size: 204500\n",
      "SASRecModel(\n",
      "  (loss): BCEWithLogitsLoss()\n",
      "  (item_emb): Embedding(3418, 50, padding_idx=3417)\n",
      "  (pos_emb): Embedding(50, 50)\n",
      "  (emb_dropout): Dropout(p=0.2, inplace=False)\n",
      "  (attention_layernorms): ModuleList(\n",
      "    (0): LayerNorm((50,), eps=1e-08, elementwise_affine=True)\n",
      "    (1): LayerNorm((50,), eps=1e-08, elementwise_affine=True)\n",
      "  )\n",
      "  (attention_layers): ModuleList(\n",
      "    (0): MultiHeadAttention(\n",
      "      (linear_layers): ModuleList(\n",
      "        (0): Linear(in_features=50, out_features=50, bias=True)\n",
      "        (1): Linear(in_features=50, out_features=50, bias=True)\n",
      "        (2): Linear(in_features=50, out_features=50, bias=True)\n",
      "      )\n",
      "      (output_linear): Linear(in_features=50, out_features=50, bias=True)\n",
      "      (dropout): Dropout(p=0.2, inplace=False)\n",
      "    )\n",
      "    (1): MultiHeadAttention(\n",
      "      (linear_layers): ModuleList(\n",
      "        (0): Linear(in_features=50, out_features=50, bias=True)\n",
      "        (1): Linear(in_features=50, out_features=50, bias=True)\n",
      "        (2): Linear(in_features=50, out_features=50, bias=True)\n",
      "      )\n",
      "      (output_linear): Linear(in_features=50, out_features=50, bias=True)\n",
      "      (dropout): Dropout(p=0.2, inplace=False)\n",
      "    )\n",
      "  )\n",
      "  (forward_layernorms): ModuleList(\n",
      "    (0): LayerNorm((50,), eps=1e-08, elementwise_affine=True)\n",
      "    (1): LayerNorm((50,), eps=1e-08, elementwise_affine=True)\n",
      "  )\n",
      "  (forward_layers): ModuleList(\n",
      "    (0): PointWiseFeedForward(\n",
      "      (linear1): Linear(in_features=50, out_features=50, bias=True)\n",
      "      (dropout1): Dropout(p=0.2, inplace=False)\n",
      "      (relu): ReLU()\n",
      "      (linear2): Linear(in_features=50, out_features=50, bias=True)\n",
      "      (dropout2): Dropout(p=0.2, inplace=False)\n",
      "    )\n",
      "    (1): PointWiseFeedForward(\n",
      "      (linear1): Linear(in_features=50, out_features=50, bias=True)\n",
      "      (dropout1): Dropout(p=0.2, inplace=False)\n",
      "      (relu): ReLU()\n",
      "      (linear2): Linear(in_features=50, out_features=50, bias=True)\n",
      "      (dropout2): Dropout(p=0.2, inplace=False)\n",
      "    )\n",
      "  )\n",
      "  (last_layernorm): LayerNorm((50,), eps=1e-08, elementwise_affine=True)\n",
      ")\n"
     ]
    }
   ],
   "source": [
    "model = model_factory(args)\n",
    "if args.load_pretrained_weights is not None:\n",
    "    print(\"weights loading from %s ...\" % args.load_pretrained_weights)\n",
    "    model = load_pretrained_weights(model, args.load_pretrained_weights)\n",
    "print(\"Model size:\", sum(p.numel() for p in model.parameters() if p.requires_grad))\n",
    "print(model)"
   ]
  },
  {
   "cell_type": "markdown",
   "metadata": {},
   "source": [
    "## Model Training"
   ]
  },
  {
   "cell_type": "code",
   "execution_count": 19,
   "metadata": {
    "tags": [
     "outputPrepend"
    ]
   },
   "outputs": [
    {
     "name": "stderr",
     "output_type": "stream",
     "text": [
      "TEST N@5 0.02862: , N@10 0.04380: , N@20 0.06933: , R@5 0.04885: , R@10 0.09671: , R@20 0.19863: , M 0.05117: , AUC 0.50692: , loss 0.00000: 100%|██████████| 95/95 [00:00<00:00, 123.48it/s]\n",
      "  0%|          | 0/95 [00:00<?, ?it/s]../src/trainers/base.py:85: UserWarning: torch.nn.utils.clip_grad_norm is now deprecated in favor of torch.nn.utils.clip_grad_norm_.\n",
      "  nn.utils.clip_grad_norm(self.model.parameters(), 5.0)\n",
      "Epoch 1, loss 1.16304 : 100%|██████████| 95/95 [00:04<00:00, 19.71it/s]\n",
      "Epoch 2, loss 0.86300 : 100%|██████████| 95/95 [00:04<00:00, 19.51it/s]\n",
      "Epoch 3, loss 0.70776 : 100%|██████████| 95/95 [00:04<00:00, 20.54it/s]\n",
      "Epoch 4, loss 0.60145 : 100%|██████████| 95/95 [00:04<00:00, 19.55it/s]\n",
      "Epoch 5, loss 0.52367 : 100%|██████████| 95/95 [00:04<00:00, 19.70it/s]\n",
      "Epoch 6, loss 0.46471 : 100%|██████████| 95/95 [00:04<00:00, 20.30it/s]\n",
      "Epoch 7, loss 0.41742 : 100%|██████████| 95/95 [00:04<00:00, 20.49it/s]\n",
      "Epoch 8, loss 0.37774 : 100%|██████████| 95/95 [00:04<00:00, 20.37it/s]\n",
      "Epoch 9, loss 0.34554 : 100%|██████████| 95/95 [00:04<00:00, 20.05it/s]\n",
      "Epoch 10, loss 0.31915 : 100%|██████████| 95/95 [00:04<00:00, 20.37it/s]\n",
      "VAL N@5 0.31697: , N@10 0.36441: , N@20 0.40247: , R@5 0.44868: , R@10 0.59567: , R@20 0.74567: , M 0.31037: , AUC 0.84982: , loss 0.00000: 100%|██████████| 95/95 [00:00<00:00, 165.32it/s]\n",
      "TEST N@5 0.31400: , N@10 0.36027: , N@20 0.40209: , R@5 0.43973: , R@10 0.58259: , R@20 0.74833: , M 0.30986: , AUC 0.84951: , loss 0.00000:  15%|█▍        | 14/95 [00:00<00:00, 138.29it/s]"
     ]
    },
    {
     "name": "stdout",
     "output_type": "stream",
     "text": [
      "Update Best NDCG@10 Model\n"
     ]
    },
    {
     "name": "stderr",
     "output_type": "stream",
     "text": [
      "TEST N@5 0.30572: , N@10 0.35232: , N@20 0.39109: , R@5 0.43196: , R@10 0.57582: , R@20 0.72873: , M 0.30133: , AUC 0.84338: , loss 0.00000: 100%|██████████| 95/95 [00:00<00:00, 168.26it/s]\n",
      "Epoch 11, loss 0.29702 : 100%|██████████| 95/95 [00:04<00:00, 20.60it/s]\n",
      "Epoch 12, loss 0.27976 : 100%|██████████| 95/95 [00:04<00:00, 20.26it/s]\n",
      "Epoch 13, loss 0.26221 : 100%|██████████| 95/95 [00:04<00:00, 20.43it/s]\n",
      "Epoch 14, loss 0.24856 : 100%|██████████| 95/95 [00:04<00:00, 20.78it/s]\n",
      "Epoch 15, loss 0.23412 : 100%|██████████| 95/95 [00:04<00:00, 19.78it/s]\n",
      "Epoch 16, loss 0.22385 : 100%|██████████| 95/95 [00:04<00:00, 20.33it/s]\n",
      "Epoch 17, loss 0.21222 : 100%|██████████| 95/95 [00:04<00:00, 20.72it/s]\n",
      "Epoch 18, loss 0.20359 : 100%|██████████| 95/95 [00:04<00:00, 20.31it/s]\n",
      "Epoch 19, loss 0.19586 : 100%|██████████| 95/95 [00:04<00:00, 20.27it/s]\n",
      "Epoch 20, loss 0.18691 : 100%|██████████| 95/95 [00:04<00:00, 20.36it/s]\n",
      "VAL N@5 0.36025: , N@10 0.40325: , N@20 0.43799: , R@5 0.49490: , R@10 0.62834: , R@20 0.76557: , M 0.34906: , AUC 0.85752: , loss 0.00000: 100%|██████████| 95/95 [00:00<00:00, 148.10it/s]\n",
      "TEST N@5 0.35145: , N@10 0.39611: , N@20 0.42792: , R@5 0.48493: , R@10 0.62388: , R@20 0.74944: , M 0.34077: , AUC 0.85584: , loss 0.00000:  17%|█▋        | 16/95 [00:00<00:00, 159.08it/s]"
     ]
    },
    {
     "name": "stdout",
     "output_type": "stream",
     "text": [
      "Update Best NDCG@10 Model\n"
     ]
    },
    {
     "name": "stderr",
     "output_type": "stream",
     "text": [
      "TEST N@5 0.34673: , N@10 0.39025: , N@20 0.42388: , R@5 0.47648: , R@10 0.61064: , R@20 0.74386: , M 0.33774: , AUC 0.84931: , loss 0.00000: 100%|██████████| 95/95 [00:00<00:00, 146.09it/s]\n",
      "Epoch 21, loss 0.18076 : 100%|██████████| 95/95 [00:04<00:00, 20.21it/s]\n",
      "Epoch 22, loss 0.17477 : 100%|██████████| 95/95 [00:04<00:00, 20.26it/s]\n",
      "Epoch 23, loss 0.16913 : 100%|██████████| 95/95 [00:04<00:00, 20.21it/s]\n",
      "Epoch 24, loss 0.16347 : 100%|██████████| 95/95 [00:04<00:00, 20.28it/s]\n",
      "Epoch 25, loss 0.15890 : 100%|██████████| 95/95 [00:04<00:00, 19.96it/s]\n",
      "Epoch 26, loss 0.15299 : 100%|██████████| 95/95 [00:04<00:00, 20.35it/s]\n",
      "Epoch 27, loss 0.14806 : 100%|██████████| 95/95 [00:04<00:00, 20.33it/s]\n",
      "Epoch 28, loss 0.14513 : 100%|██████████| 95/95 [00:04<00:00, 20.41it/s]\n",
      "Epoch 29, loss 0.13926 : 100%|██████████| 95/95 [00:04<00:00, 19.81it/s]\n",
      "Epoch 30, loss 0.13565 : 100%|██████████| 95/95 [00:04<00:00, 20.37it/s]\n",
      "VAL N@5 0.37683: , N@10 0.42121: , N@20 0.45387: , R@5 0.50499: , R@10 0.64221: , R@20 0.77083: , M 0.36778: , AUC 0.86258: , loss 0.00000: 100%|██████████| 95/95 [00:00<00:00, 161.37it/s]\n",
      "TEST N@5 0.38187: , N@10 0.42409: , N@20 0.45517: , R@5 0.50857: , R@10 0.63911: , R@20 0.76159: , M 0.37219: , AUC 0.85605: , loss 0.00000:  17%|█▋        | 16/95 [00:00<00:00, 158.67it/s]"
     ]
    },
    {
     "name": "stdout",
     "output_type": "stream",
     "text": [
      "Update Best NDCG@10 Model\n"
     ]
    },
    {
     "name": "stderr",
     "output_type": "stream",
     "text": [
      "TEST N@5 0.36497: , N@10 0.40562: , N@20 0.43880: , R@5 0.49326: , R@10 0.61919: , R@20 0.75071: , M 0.35499: , AUC 0.85317: , loss 0.00000: 100%|██████████| 95/95 [00:00<00:00, 150.29it/s]\n",
      "Epoch 31, loss 0.13142 : 100%|██████████| 95/95 [00:04<00:00, 20.54it/s]\n",
      "Epoch 32, loss 0.12734 : 100%|██████████| 95/95 [00:04<00:00, 20.23it/s]\n",
      "Epoch 33, loss 0.12452 : 100%|██████████| 95/95 [00:04<00:00, 19.81it/s]\n",
      "Epoch 34, loss 0.12136 : 100%|██████████| 95/95 [00:04<00:00, 20.30it/s]\n",
      "Epoch 35, loss 0.11829 : 100%|██████████| 95/95 [00:04<00:00, 20.07it/s]\n",
      "Epoch 36, loss 0.11566 : 100%|██████████| 95/95 [00:04<00:00, 19.24it/s]\n",
      "Epoch 37, loss 0.11322 : 100%|██████████| 95/95 [00:04<00:00, 19.73it/s]\n",
      "Epoch 38, loss 0.11004 : 100%|██████████| 95/95 [00:04<00:00, 20.47it/s]\n",
      "Epoch 39, loss 0.10680 : 100%|██████████| 95/95 [00:04<00:00, 20.16it/s]\n",
      "Epoch 40, loss 0.10505 : 100%|██████████| 95/95 [00:04<00:00, 19.84it/s]\n",
      "VAL N@5 0.38165: , N@10 0.42429: , N@20 0.45628: , R@5 0.51047: , R@10 0.64254: , R@20 0.76809: , M 0.37144: , AUC 0.86134: , loss 0.00000: 100%|██████████| 95/95 [00:00<00:00, 157.20it/s]\n",
      "TEST N@5 0.36742: , N@10 0.40420: , N@20 0.43654: , R@5 0.49798: , R@10 0.61240: , R@20 0.74093: , M 0.35467: , AUC 0.84775: , loss 0.00000:  17%|█▋        | 16/95 [00:00<00:00, 152.39it/s]"
     ]
    },
    {
     "name": "stdout",
     "output_type": "stream",
     "text": [
      "Update Best NDCG@10 Model\n"
     ]
    },
    {
     "name": "stderr",
     "output_type": "stream",
     "text": [
      "TEST N@5 0.36466: , N@10 0.40632: , N@20 0.43796: , R@5 0.48980: , R@10 0.61842: , R@20 0.74391: , M 0.35583: , AUC 0.84992: , loss 0.00000: 100%|██████████| 95/95 [00:00<00:00, 168.33it/s]\n",
      "Epoch 41, loss 0.10280 : 100%|██████████| 95/95 [00:04<00:00, 19.61it/s]\n",
      "Epoch 42, loss 0.09994 : 100%|██████████| 95/95 [00:04<00:00, 19.90it/s]\n",
      "Epoch 43, loss 0.09790 : 100%|██████████| 95/95 [00:04<00:00, 20.12it/s]\n",
      "Epoch 44, loss 0.09695 : 100%|██████████| 95/95 [00:04<00:00, 20.08it/s]\n",
      "Epoch 45, loss 0.09431 : 100%|██████████| 95/95 [00:04<00:00, 19.92it/s]\n",
      "Epoch 46, loss 0.09246 : 100%|██████████| 95/95 [00:04<00:00, 20.42it/s]\n",
      "Epoch 47, loss 0.09084 : 100%|██████████| 95/95 [00:04<00:00, 20.55it/s]\n",
      "Epoch 48, loss 0.08921 : 100%|██████████| 95/95 [00:04<00:00, 20.06it/s]\n",
      "Epoch 49, loss 0.08749 : 100%|██████████| 95/95 [00:04<00:00, 19.93it/s]\n",
      "Epoch 50, loss 0.08657 : 100%|██████████| 95/95 [00:04<00:00, 19.90it/s]\n",
      "VAL N@5 0.38374: , N@10 0.42616: , N@20 0.45915: , R@5 0.51102: , R@10 0.64227: , R@20 0.77253: , M 0.37403: , AUC 0.86220: , loss 0.00000: 100%|██████████| 95/95 [00:00<00:00, 145.86it/s]\n",
      "TEST N@5 0.35604: , N@10 0.40599: , N@20 0.43664: , R@5 0.47656: , R@10 0.62969: , R@20 0.75104: , M 0.35191: , AUC 0.85311: , loss 0.00000:  16%|█▌        | 15/95 [00:00<00:00, 147.73it/s]"
     ]
    },
    {
     "name": "stdout",
     "output_type": "stream",
     "text": [
      "Update Best NDCG@10 Model\n"
     ]
    },
    {
     "name": "stderr",
     "output_type": "stream",
     "text": [
      "TEST N@5 0.36444: , N@10 0.40639: , N@20 0.43882: , R@5 0.48925: , R@10 0.61848: , R@20 0.74693: , M 0.35608: , AUC 0.85106: , loss 0.00000: 100%|██████████| 95/95 [00:00<00:00, 151.85it/s]\n",
      "Epoch 51, loss 0.08525 : 100%|██████████| 95/95 [00:04<00:00, 20.11it/s]\n",
      "Epoch 52, loss 0.08364 : 100%|██████████| 95/95 [00:04<00:00, 20.22it/s]\n",
      "Epoch 53, loss 0.08242 : 100%|██████████| 95/95 [00:04<00:00, 20.35it/s]\n",
      "Epoch 54, loss 0.08049 : 100%|██████████| 95/95 [00:04<00:00, 20.01it/s]\n",
      "Epoch 55, loss 0.07923 : 100%|██████████| 95/95 [00:04<00:00, 20.07it/s]\n",
      "Epoch 56, loss 0.07853 : 100%|██████████| 95/95 [00:04<00:00, 20.02it/s]\n",
      "Epoch 57, loss 0.07710 : 100%|██████████| 95/95 [00:04<00:00, 20.03it/s]\n",
      "Epoch 58, loss 0.07579 : 100%|██████████| 95/95 [00:04<00:00, 20.27it/s]\n",
      "Epoch 59, loss 0.07506 : 100%|██████████| 95/95 [00:04<00:00, 19.73it/s]\n",
      "Epoch 60, loss 0.07351 : 100%|██████████| 95/95 [00:04<00:00, 19.63it/s]\n",
      "VAL N@5 0.38613: , N@10 0.42703: , N@20 0.45920: , R@5 0.51689: , R@10 0.64293: , R@20 0.76957: , M 0.37484: , AUC 0.86318: , loss 0.00000: 100%|██████████| 95/95 [00:00<00:00, 145.20it/s]\n",
      "TEST N@5 0.37027: , N@10 0.41018: , N@20 0.44222: , R@5 0.50202: , R@10 0.62550: , R@20 0.75252: , M 0.35836: , AUC 0.85550: , loss 0.00000:  18%|█▊        | 17/95 [00:00<00:00, 160.49it/s]"
     ]
    },
    {
     "name": "stdout",
     "output_type": "stream",
     "text": [
      "Update Best NDCG@10 Model\n"
     ]
    },
    {
     "name": "stderr",
     "output_type": "stream",
     "text": [
      "TEST N@5 0.36508: , N@10 0.40807: , N@20 0.43920: , R@5 0.48942: , R@10 0.62231: , R@20 0.74545: , M 0.35694: , AUC 0.85303: , loss 0.00000: 100%|██████████| 95/95 [00:00<00:00, 165.83it/s]\n",
      "Epoch 61, loss 0.07278 : 100%|██████████| 95/95 [00:04<00:00, 20.21it/s]\n",
      "Epoch 62, loss 0.07201 : 100%|██████████| 95/95 [00:04<00:00, 19.91it/s]\n",
      "Epoch 63, loss 0.07095 : 100%|██████████| 95/95 [00:05<00:00, 17.96it/s]\n",
      "Epoch 64, loss 0.07023 : 100%|██████████| 95/95 [00:04<00:00, 19.58it/s]\n",
      "Epoch 65, loss 0.06910 : 100%|██████████| 95/95 [00:04<00:00, 19.59it/s]\n",
      "Epoch 66, loss 0.06821 : 100%|██████████| 95/95 [00:04<00:00, 20.04it/s]\n",
      "Epoch 67, loss 0.06718 : 100%|██████████| 95/95 [00:04<00:00, 20.04it/s]\n",
      "Epoch 68, loss 0.06640 : 100%|██████████| 95/95 [00:04<00:00, 20.03it/s]\n",
      "Epoch 69, loss 0.06631 : 100%|██████████| 95/95 [00:04<00:00, 19.00it/s]\n",
      "Epoch 70, loss 0.06502 : 100%|██████████| 95/95 [00:05<00:00, 17.77it/s]\n",
      "VAL N@5 0.38391: , N@10 0.42600: , N@20 0.45753: , R@5 0.51245: , R@10 0.64172: , R@20 0.76612: , M 0.37377: , AUC 0.86184: , loss 0.00000: 100%|██████████| 95/95 [00:00<00:00, 138.96it/s]\n",
      "TEST N@5 0.36475: , N@10 0.40615: , N@20 0.43861: , R@5 0.48980: , R@10 0.61683: , R@20 0.74485: , M 0.35636: , AUC 0.85208: , loss 0.00000: 100%|██████████| 95/95 [00:00<00:00, 153.96it/s]\n",
      "Epoch 71, loss 0.06475 : 100%|██████████| 95/95 [00:04<00:00, 19.90it/s]\n",
      "Epoch 72, loss 0.06455 : 100%|██████████| 95/95 [00:04<00:00, 19.59it/s]\n",
      "Epoch 73, loss 0.06331 : 100%|██████████| 95/95 [00:04<00:00, 19.79it/s]\n",
      "Epoch 74, loss 0.06284 : 100%|██████████| 95/95 [00:04<00:00, 20.49it/s]\n",
      "Epoch 75, loss 0.06208 : 100%|██████████| 95/95 [00:04<00:00, 20.24it/s]\n",
      "Epoch 76, loss 0.06147 : 100%|██████████| 95/95 [00:04<00:00, 19.28it/s]\n",
      "Epoch 77, loss 0.05994 : 100%|██████████| 95/95 [00:04<00:00, 19.51it/s]\n",
      "Epoch 78, loss 0.06045 : 100%|██████████| 95/95 [00:04<00:00, 19.65it/s]\n",
      "Epoch 79, loss 0.05881 : 100%|██████████| 95/95 [00:05<00:00, 18.92it/s]\n",
      "Epoch 80, loss 0.05901 : 100%|██████████| 95/95 [00:04<00:00, 20.26it/s]\n",
      "VAL N@5 0.38532: , N@10 0.42732: , N@20 0.45922: , R@5 0.51425: , R@10 0.64375: , R@20 0.77012: , M 0.37474: , AUC 0.86207: , loss 0.00000: 100%|██████████| 95/95 [00:00<00:00, 161.00it/s]\n",
      "TEST N@5 0.33562: , N@10 0.38117: , N@20 0.41273: , R@5 0.45544: , R@10 0.59606: , R@20 0.72106: , M 0.33065: , AUC 0.83986: , loss 0.00000:  15%|█▍        | 14/95 [00:00<00:00, 134.78it/s]"
     ]
    },
    {
     "name": "stdout",
     "output_type": "stream",
     "text": [
      "Update Best NDCG@10 Model\n"
     ]
    },
    {
     "name": "stderr",
     "output_type": "stream",
     "text": [
      "TEST N@5 0.36561: , N@10 0.40748: , N@20 0.43781: , R@5 0.49178: , R@10 0.62100: , R@20 0.74090: , M 0.35634: , AUC 0.85109: , loss 0.00000: 100%|██████████| 95/95 [00:00<00:00, 137.55it/s]\n",
      "Epoch 81, loss 0.05803 : 100%|██████████| 95/95 [00:04<00:00, 19.45it/s]\n",
      "Epoch 82, loss 0.05753 : 100%|██████████| 95/95 [00:04<00:00, 19.74it/s]\n",
      "Epoch 83, loss 0.05724 : 100%|██████████| 95/95 [00:04<00:00, 19.67it/s]\n",
      "Epoch 84, loss 0.05632 : 100%|██████████| 95/95 [00:04<00:00, 19.22it/s]\n",
      "Epoch 85, loss 0.05596 : 100%|██████████| 95/95 [00:04<00:00, 19.77it/s]\n",
      "Epoch 86, loss 0.05510 : 100%|██████████| 95/95 [00:04<00:00, 20.15it/s]\n",
      "Epoch 87, loss 0.05480 : 100%|██████████| 95/95 [00:04<00:00, 20.04it/s]\n",
      "Epoch 88, loss 0.05437 : 100%|██████████| 95/95 [00:04<00:00, 20.57it/s]\n",
      "Epoch 89, loss 0.05331 : 100%|██████████| 95/95 [00:04<00:00, 20.27it/s]\n",
      "Epoch 90, loss 0.05367 : 100%|██████████| 95/95 [00:04<00:00, 20.22it/s]\n",
      "VAL N@5 0.38730: , N@10 0.42856: , N@20 0.45967: , R@5 0.51985: , R@10 0.64715: , R@20 0.77018: , M 0.37516: , AUC 0.86425: , loss 0.00000: 100%|██████████| 95/95 [00:00<00:00, 153.96it/s]\n",
      "TEST N@5 0.37776: , N@10 0.42187: , N@20 0.45012: , R@5 0.50460: , R@10 0.63971: , R@20 0.75138: , M 0.36831: , AUC 0.85496: , loss 0.00000:  19%|█▉        | 18/95 [00:00<00:00, 171.27it/s]"
     ]
    },
    {
     "name": "stdout",
     "output_type": "stream",
     "text": [
      "Update Best NDCG@10 Model\n"
     ]
    },
    {
     "name": "stderr",
     "output_type": "stream",
     "text": [
      "TEST N@5 0.36802: , N@10 0.40971: , N@20 0.44109: , R@5 0.49550: , R@10 0.62352: , R@20 0.74797: , M 0.35843: , AUC 0.85403: , loss 0.00000: 100%|██████████| 95/95 [00:00<00:00, 169.82it/s]\n",
      "Epoch 91, loss 0.05309 : 100%|██████████| 95/95 [00:04<00:00, 19.90it/s]\n",
      "Epoch 92, loss 0.05328 : 100%|██████████| 95/95 [00:04<00:00, 19.88it/s]\n",
      "Epoch 93, loss 0.05329 : 100%|██████████| 95/95 [00:04<00:00, 19.63it/s]\n",
      "Epoch 94, loss 0.05174 : 100%|██████████| 95/95 [00:04<00:00, 20.37it/s]\n",
      "Epoch 95, loss 0.05154 : 100%|██████████| 95/95 [00:04<00:00, 19.90it/s]\n",
      "Epoch 96, loss 0.05131 : 100%|██████████| 95/95 [00:04<00:00, 19.27it/s]\n",
      "Epoch 97, loss 0.05141 : 100%|██████████| 95/95 [00:04<00:00, 19.36it/s]\n",
      "Epoch 98, loss 0.05051 : 100%|██████████| 95/95 [00:04<00:00, 20.40it/s]\n",
      "Epoch 99, loss 0.05048 : 100%|██████████| 95/95 [00:04<00:00, 20.34it/s]\n",
      "Epoch 100, loss 0.05043 : 100%|██████████| 95/95 [00:04<00:00, 20.13it/s]\n",
      "VAL N@5 0.38439: , N@10 0.42627: , N@20 0.45667: , R@5 0.51732: , R@10 0.64644: , R@20 0.76656: , M 0.37237: , AUC 0.86318: , loss 0.00000: 100%|██████████| 95/95 [00:00<00:00, 158.60it/s]\n",
      "TEST N@5 0.36579: , N@10 0.40814: , N@20 0.43912: , R@5 0.49073: , R@10 0.62133: , R@20 0.74359: , M 0.35732: , AUC 0.85301: , loss 0.00000: 100%|██████████| 95/95 [00:00<00:00, 161.86it/s]\n"
     ]
    }
   ],
   "source": [
    "trainer = trainer_factory(args, model, train_loader, val_loader, test_loader, ckpt_root, dataset.data)\n",
    "trainer.train()"
   ]
  },
  {
   "cell_type": "markdown",
   "metadata": {},
   "source": [
    "## Model Test and Saving"
   ]
  },
  {
   "cell_type": "code",
   "execution_count": 20,
   "metadata": {},
   "outputs": [
    {
     "name": "stderr",
     "output_type": "stream",
     "text": [
      "FINAL TEST: N@5 0.38049, N@10 0.42156, N@20 0.45156, R@5 0.50541, R@10 0.63161, R@20 0.75060, M 0.37080, AUC 0.85384, loss 0.00000:  15%|█▍        | 14/95 [00:00<00:00, 136.33it/s]"
     ]
    },
    {
     "name": "stdout",
     "output_type": "stream",
     "text": [
      "Test best model with test set!\n"
     ]
    },
    {
     "name": "stderr",
     "output_type": "stream",
     "text": [
      "FINAL TEST: N@5 0.36755, N@10 0.40923, N@20 0.44075, R@5 0.49496, R@10 0.62297, R@20 0.74797, M 0.35800, AUC 0.85377, loss 0.00000: 100%|██████████| 95/95 [00:00<00:00, 142.63it/s]"
     ]
    },
    {
     "name": "stdout",
     "output_type": "stream",
     "text": [
      "{'NDCG@5': 0.3675452088054858, 'Recall@5': 0.4949561401417381, 'NDCG@10': 0.409231195010637, 'Recall@10': 0.6229714914372093, 'NDCG@20': 0.44075291501848324, 'Recall@20': 0.7479714914372093, 'MRR': 0.3580012647729171, 'AUC': 0.8537730348737617}\n"
     ]
    },
    {
     "name": "stderr",
     "output_type": "stream",
     "text": [
      "\n"
     ]
    }
   ],
   "source": [
    "# model testing and saving\n",
    "trainer.test()\n",
    "trainer.logger_service.complete({'state_dict': (trainer._create_state_dict())})\n",
    "trainer.writer.close()"
   ]
  },
  {
   "cell_type": "markdown",
   "metadata": {},
   "source": [
    "## Export ONNX Model \n",
    "- Install ONNX with `pip install ONNX`\n",
    "- Install ONNX Runtime ()ORT with `pip install onnxruntime` or `pip install onnxruntime-gpu`"
   ]
  },
  {
   "cell_type": "code",
   "execution_count": 21,
   "metadata": {},
   "outputs": [],
   "source": [
    "model.eval()\n",
    "for batch in trainer.test_loader:\n",
    "    break\n",
    "users, seqs, candidates, labels, length = batch\n",
    "inputs = (seqs, candidates, length)\n",
    "torch_out = model(*inputs)"
   ]
  },
  {
   "cell_type": "markdown",
   "metadata": {},
   "source": [
    "### Export Our Model with ONNX (Ver. 11)"
   ]
  },
  {
   "cell_type": "code",
   "execution_count": 22,
   "metadata": {},
   "outputs": [
    {
     "name": "stderr",
     "output_type": "stream",
     "text": [
      "/home/zhankui/.local/lib/python3.6/site-packages/torch/onnx/utils.py:1190: UserWarning: Provided key input for dynamic axes is not a valid input/output name\n",
      "  warnings.warn(\"Provided key {} for dynamic axes is not a valid input/output name\".format(key))\n",
      "../src/models/onnx_support.py:74: TracerWarning: Converting a tensor to a Python float might cause the trace to be incorrect. We can't record the data flow of Python values, so this value will be treated as a constant in the future. This means that the trace might not generalize to other inputs!\n",
      "  scores = torch.matmul(query, key.transpose(-2, -1)) / math.sqrt(query.size(-1))\n",
      "/home/zhankui/.local/lib/python3.6/site-packages/torch/onnx/symbolic_opset9.py:2624: UserWarning: Exporting aten::index operator of advanced indexing in opset 11 is achieved by combination of multiple ONNX operators, including Reshape, Transpose, Concat, and Gather. If indices include negative values, the exported graph will produce incorrect results.\n",
      "  \"If indices include negative values, the exported graph will produce incorrect results.\")\n"
     ]
    }
   ],
   "source": [
    "torch.onnx.export(model,               # model being run\n",
    "                  inputs,                         # model input (or a tuple for multiple inputs)\n",
    "                  \"model.onnx\",   # where to save the model (can be a file or file-like object)\n",
    "                  export_params=True,        # store the trained parameter weights inside the model file\n",
    "                  opset_version=11,          # the ONNX version to export the model to\n",
    "                  do_constant_folding=True,  # whether to execute constant folding for optimization\n",
    "                  input_names = ['seqs', 'candidates', 'length'],   # the model's input names\n",
    "                  output_names = ['output'], # the model's output names\n",
    "                  dynamic_axes={'input' : {0 : 'batch_size'},    # variable length axes\n",
    "                                'output' : {0 : 'batch_size'}})"
   ]
  },
  {
   "cell_type": "markdown",
   "metadata": {},
   "source": [
    "### Load Our ONNX Model for Checking"
   ]
  },
  {
   "cell_type": "code",
   "execution_count": 10,
   "metadata": {},
   "outputs": [],
   "source": [
    "import onnx\n",
    "\n",
    "onnx_model = onnx.load(\"model.onnx\")\n",
    "onnx.checker.check_model(onnx_model)"
   ]
  },
  {
   "cell_type": "markdown",
   "metadata": {},
   "source": [
    "### Use ONNXRuntime to Run our Model"
   ]
  },
  {
   "cell_type": "code",
   "execution_count": 11,
   "metadata": {},
   "outputs": [
    {
     "name": "stderr",
     "output_type": "stream",
     "text": [
      "/home/zhankui/anaconda3/envs/bert4rec/lib/python3.6/site-packages/onnxruntime/capi/onnxruntime_inference_collection.py:353: UserWarning: Deprecation warning. This ORT build has ['CUDAExecutionProvider', 'CPUExecutionProvider'] enabled. The next release (ORT 1.10) will require explicitly setting the providers parameter (as opposed to the current behavior of providers getting set/registered by default based on the build flags) when instantiating InferenceSession.For example, onnxruntime.InferenceSession(..., providers=[\"CUDAExecutionProvider\"], ...)\n",
      "  \"based on the build flags) when instantiating InferenceSession.\"\n"
     ]
    }
   ],
   "source": [
    "import onnxruntime\n",
    "\n",
    "ort_session = onnxruntime.InferenceSession(\"model.onnx\")\n",
    "\n",
    "def to_numpy(tensor):\n",
    "    return tensor.detach().cpu().numpy() if tensor.requires_grad else tensor.cpu().numpy()"
   ]
  },
  {
   "cell_type": "code",
   "execution_count": 12,
   "metadata": {},
   "outputs": [],
   "source": [
    "# compute ONNX Runtime output prediction\n",
    "ort_inputs = {'seqs': to_numpy(seqs), 'candidates': to_numpy(candidates), 'length': to_numpy(length)}\n",
    "ort_outs = ort_session.run(None, ort_inputs)"
   ]
  },
  {
   "cell_type": "code",
   "execution_count": 13,
   "metadata": {},
   "outputs": [],
   "source": [
    "# compare ONNX Runtime and PyTorch results\n",
    "np.testing.assert_allclose(to_numpy(torch_out), ort_outs[0], rtol=1e-03, atol=1e-05)"
   ]
  },
  {
   "cell_type": "markdown",
   "metadata": {},
   "source": [
    "### You can also use `onnx_tensorrt` to use `TensorRT` backend\n",
    "\n",
    "- Here we use TensorRT 8.2.0, please follow [onnx_tensorrt](https://github.com/onnx/onnx-tensorrt) master branch to install the related dependencies. Or you can use `onnx2trt` to export this `.onnx` to `.trt` engine."
   ]
  },
  {
   "cell_type": "code",
   "execution_count": null,
   "metadata": {},
   "outputs": [],
   "source": [
    "import onnx\n",
    "import onnx_tensorrt.backend as backend\n",
    "\n",
    "onnx_model = onnx.load(\"model.onnx\")\n",
    "engine = backend.prepare(onnx_model, device='CUDA:0')"
   ]
  },
  {
   "cell_type": "markdown",
   "metadata": {},
   "source": [
    "## Model Serving\n",
    "We deploy a model with [faiss](https://github.com/facebookresearch/faiss) to accelerate the maximal inner product search. "
   ]
  },
  {
   "cell_type": "code",
   "execution_count": null,
   "metadata": {},
   "outputs": [],
   "source": [
    "import os\n",
    "import faiss\n",
    "\n",
    "model = model_factory(args)\n",
    "model = load_pretrained_weights(model, os.path.join('../', ckpt_root, 'models', 'best_acc_model.pth'))\n",
    "model = model.eval()"
   ]
  },
  {
   "cell_type": "code",
   "execution_count": 15,
   "metadata": {},
   "outputs": [],
   "source": [
    "import numpy as np\n",
    "d = args.trm_hidden_dim                                 # dimension\n",
    "nb = model.item_emb.weight.size(0)                      # item pool size\n",
    "xb = model.item_emb.weight.data.cpu().numpy()           # item embeddings table"
   ]
  },
  {
   "cell_type": "code",
   "execution_count": 16,
   "metadata": {},
   "outputs": [],
   "source": [
    "index = faiss.index_factory(d, 'HNSW32', faiss.METRIC_INNER_PRODUCT)   # build the index\n",
    "index.add(xb)                                                          # add vectors to the index"
   ]
  },
  {
   "cell_type": "markdown",
   "metadata": {},
   "source": [
    "### Model Input Example"
   ]
  },
  {
   "cell_type": "code",
   "execution_count": 41,
   "metadata": {},
   "outputs": [],
   "source": [
    "x = torch.LongTensor([dataset.train[0]])                # input example\n",
    "l = torch.LongTensor([len(dataset.train[0])-1])         # length"
   ]
  },
  {
   "cell_type": "code",
   "execution_count": 23,
   "metadata": {},
   "outputs": [],
   "source": [
    "xq = model(x, length=l, mode='serving').detach().cpu()"
   ]
  },
  {
   "cell_type": "markdown",
   "metadata": {},
   "source": [
    "### Exact Search via Naive Matmul"
   ]
  },
  {
   "cell_type": "code",
   "execution_count": 34,
   "metadata": {},
   "outputs": [
    {
     "name": "stdout",
     "output_type": "stream",
     "text": [
      "tensor([63, 29, 28, 61, 36,  6, 49, 62, 12, 39])\n"
     ]
    }
   ],
   "source": [
    "k = 10\n",
    "\n",
    "V, I = torch.topk((torch.Tensor(xb) @ xq.squeeze()), k)\n",
    "print(I)"
   ]
  },
  {
   "cell_type": "markdown",
   "metadata": {},
   "source": [
    "### Approximate Search Via Faiss"
   ]
  },
  {
   "cell_type": "code",
   "execution_count": 40,
   "metadata": {},
   "outputs": [
    {
     "name": "stdout",
     "output_type": "stream",
     "text": [
      "[[63 29 28 36 61  6 62 12 49 39]]\n"
     ]
    }
   ],
   "source": [
    "V, I = index.search(xq.numpy(), k)\n",
    "print(I)"
   ]
  }
 ],
 "metadata": {
  "interpreter": {
   "hash": "b924b7c73943409674542aea3e0df54fb1f044d153fc4e01dc776af20050e158"
  },
  "kernelspec": {
   "display_name": "Python 3.6.10 64-bit ('bert4rec': conda)",
   "name": "python3"
  },
  "language_info": {
   "codemirror_mode": {
    "name": "ipython",
    "version": 3
   },
   "file_extension": ".py",
   "mimetype": "text/x-python",
   "name": "python",
   "nbconvert_exporter": "python",
   "pygments_lexer": "ipython3",
   "version": "3.6.10"
  }
 },
 "nbformat": 4,
 "nbformat_minor": 2
}
